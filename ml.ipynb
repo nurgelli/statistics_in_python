{
 "cells": [
  {
   "cell_type": "code",
   "execution_count": 3,
   "metadata": {},
   "outputs": [],
   "source": [
    "import numpy as np\n",
    "import pandas as pd"
   ]
  },
  {
   "cell_type": "code",
   "execution_count": 121,
   "metadata": {},
   "outputs": [
    {
     "data": {
      "text/plain": [
       "np.float64(32.0)"
      ]
     },
     "execution_count": 121,
     "metadata": {},
     "output_type": "execute_result"
    }
   ],
   "source": [
    "np.log2(36)\n",
    "np.exp2(5)"
   ]
  },
  {
   "cell_type": "code",
   "execution_count": 122,
   "metadata": {},
   "outputs": [
    {
     "data": {
      "text/plain": [
       "np.float64(1.2246467991473532e-16)"
      ]
     },
     "execution_count": 122,
     "metadata": {},
     "output_type": "execute_result"
    }
   ],
   "source": [
    "np.cos(np.pi * 4)\n",
    "np.sin(np.pi)"
   ]
  },
  {
   "cell_type": "code",
   "execution_count": 123,
   "metadata": {},
   "outputs": [
    {
     "data": {
      "text/plain": [
       "np.float64(0.4543654356440247)"
      ]
     },
     "execution_count": 123,
     "metadata": {},
     "output_type": "execute_result"
    }
   ],
   "source": [
    "random_number = np.random.rand(100)\n",
    "random_number.min()\n",
    "random_number.max()\n",
    "random_number.mean()\n",
    "\n",
    "#https://numpy.org/doc/stable/"
   ]
  },
  {
   "cell_type": "code",
   "execution_count": 140,
   "metadata": {},
   "outputs": [
    {
     "name": "stdout",
     "output_type": "stream",
     "text": [
      "1\n",
      "2\n",
      "2\n",
      "3\n",
      "4\n",
      "(5,)\n",
      "(2, 5)\n",
      "(3, 5)\n",
      "(2, 2, 5)\n",
      "(2, 2, 3, 5)\n"
     ]
    },
    {
     "data": {
      "text/plain": [
       "60"
      ]
     },
     "execution_count": 140,
     "metadata": {},
     "output_type": "execute_result"
    }
   ],
   "source": [
    "arrd_1 = np.array([1,2,3,4,5])\n",
    "arrd_2 = np.array([[1,2,3,4,5], [2,2,3,4,5]])\n",
    "arrd_3 = np.array([[1,2,3,4,5], [2,2,3,4,5], [3,4,6,7,8]])\n",
    "arrd_4 = np.array([[[1,2,3,4,5], [2,2,3,4,5]], [[2,2,3,4,5], [3,4,6,7,8]]])\n",
    "arrd_5 = np.array([[[[1,2,3,4,5], [2,2,3,4,5], [2,2,3,4,5]],[[1,2,3,4,5], [2,2,3,4,5], [2,2,3,4,5]]], [[[2,2,3,4,5], [2,2,3,4,5], [3,4,6,7,8]],[[2,2,3,4,5], [2,2,3,4,5], [3,4,6,7,8]]]])\n",
    "print(arrd_1.ndim)\n",
    "print(arrd_2.ndim)\n",
    "print(arrd_3.ndim)\n",
    "print(arrd_4.ndim)\n",
    "print(arrd_5.ndim)\n",
    "print(arrd_1.shape)\n",
    "print(arrd_2.shape)\n",
    "print(arrd_3.shape)\n",
    "print(arrd_4.shape)\n",
    "print(arrd_5.shape)\n",
    "arrd_1.size\n",
    "arrd_5.size\n",
    "\n"
   ]
  }
 ],
 "metadata": {
  "kernelspec": {
   "display_name": "Python 3",
   "language": "python",
   "name": "python3"
  },
  "language_info": {
   "codemirror_mode": {
    "name": "ipython",
    "version": 3
   },
   "file_extension": ".py",
   "mimetype": "text/x-python",
   "name": "python",
   "nbconvert_exporter": "python",
   "pygments_lexer": "ipython3",
   "version": "3.12.3"
  }
 },
 "nbformat": 4,
 "nbformat_minor": 2
}
