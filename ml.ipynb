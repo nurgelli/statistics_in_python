{
 "cells": [
  {
   "cell_type": "code",
   "execution_count": 7,
   "metadata": {},
   "outputs": [],
   "source": [
    "import numpy as np\n",
    "import pandas as pd\n",
    "import os"
   ]
  },
  {
   "cell_type": "code",
   "execution_count": 121,
   "metadata": {},
   "outputs": [
    {
     "data": {
      "text/plain": [
       "np.float64(32.0)"
      ]
     },
     "execution_count": 121,
     "metadata": {},
     "output_type": "execute_result"
    }
   ],
   "source": [
    "np.log2(36)\n",
    "np.exp2(5)"
   ]
  },
  {
   "cell_type": "code",
   "execution_count": 122,
   "metadata": {},
   "outputs": [
    {
     "data": {
      "text/plain": [
       "np.float64(1.2246467991473532e-16)"
      ]
     },
     "execution_count": 122,
     "metadata": {},
     "output_type": "execute_result"
    }
   ],
   "source": [
    "np.cos(np.pi * 4)\n",
    "np.sin(np.pi)"
   ]
  },
  {
   "cell_type": "code",
   "execution_count": 123,
   "metadata": {},
   "outputs": [
    {
     "data": {
      "text/plain": [
       "np.float64(0.4543654356440247)"
      ]
     },
     "execution_count": 123,
     "metadata": {},
     "output_type": "execute_result"
    }
   ],
   "source": [
    "random_number = np.random.rand(100)\n",
    "random_number.min()\n",
    "random_number.max()\n",
    "random_number.mean()\n",
    "\n",
    "#https://numpy.org/doc/stable/"
   ]
  },
  {
   "cell_type": "code",
   "execution_count": 194,
   "metadata": {},
   "outputs": [
    {
     "name": "stdout",
     "output_type": "stream",
     "text": [
      "1\n",
      "2\n",
      "2\n",
      "3\n",
      "4\n",
      "(6,)\n",
      "(2, 6)\n",
      "(3, 5)\n",
      "(2, 2, 5)\n",
      "(2, 2, 3, 5)\n"
     ]
    },
    {
     "data": {
      "text/plain": [
       "dtype('int64')"
      ]
     },
     "execution_count": 194,
     "metadata": {},
     "output_type": "execute_result"
    }
   ],
   "source": [
    "arrd_1 = np.array([1,2,3,4,5,6]) # 1D - vector\n",
    "arrd_2 = np.array([[1,2,3,4,5,6], [2,2,3,4,5,6]]) # 2D - matrix\n",
    "arrd_3 = np.array([[1,2,3,4,5], [2,2,3,4,5], [3,4,6,7,8]]) # 2D - matrix\n",
    "arrd_4 = np.array([[[1,2,3,4,5], [2,2,3,4,5]], [[2,2,3,4,5], [3,4,6,7,8]]]) # 3D - tensor\n",
    "arrd_5 = np.array([[[[1,2,3,4,5], [2,2,3,4,5], [2,2,3,4,5]],[[1,2,3,4,5], [2,2,3,4,5], [2,2,3,4,5]]], [[[2,2,3,4,5], [2,2,3,4,5], [3,4,6,7,8]],[[2,2,3,4,5], [2,2,3,4,5], [3,4,6,7,8]]]]) # ND - n dimensional\n",
    "print(arrd_1.ndim)\n",
    "print(arrd_2.ndim)\n",
    "print(arrd_3.ndim)\n",
    "print(arrd_4.ndim)\n",
    "print(arrd_5.ndim)\n",
    "print(arrd_1.shape)\n",
    "print(arrd_2.shape)\n",
    "print(arrd_3.shape)\n",
    "print(arrd_4.shape)\n",
    "print(arrd_5.shape)\n",
    "arrd_1.size\n",
    "arrd_3.size == np.prod(arrd_3.shape)\n",
    "arrd_1.dtype\n",
    "\n"
   ]
  },
  {
   "cell_type": "code",
   "execution_count": 158,
   "metadata": {},
   "outputs": [
    {
     "data": {
      "text/plain": [
       "2"
      ]
     },
     "execution_count": 158,
     "metadata": {},
     "output_type": "execute_result"
    }
   ],
   "source": [
    "vec_1 = arrd_1.reshape(3,2) #1st is row, 2nd column - creating 2D array from 1D array\n",
    "vec_1.shape\n",
    "vec_1.ndim"
   ]
  },
  {
   "cell_type": "code",
   "execution_count": 192,
   "metadata": {},
   "outputs": [
    {
     "data": {
      "text/plain": [
       "dtype('float64')"
      ]
     },
     "execution_count": 192,
     "metadata": {},
     "output_type": "execute_result"
    }
   ],
   "source": [
    "a = np.zeros(4) # creating 4 zeros\n",
    "b = np.ones(5) # creating 5 ones\n",
    "c = np.empty(3) # creating 3 random\n",
    "d = np.arange(8) # creating 8 sequent number starting from 0 excluding 8\n",
    "e = np.arange(0,20,1) # 0 starting point, 20 until and excluding, 1 step\n",
    "f = np.linspace(0, 15, num=9) # 0 starting point, 15 including, 9 is in how many step\n",
    "g = np.linspace(0, 15, num=9, dtype=np.int64) # possible to define data type\n",
    "f.dtype\n"
   ]
  },
  {
   "cell_type": "code",
   "execution_count": 201,
   "metadata": {},
   "outputs": [
    {
     "data": {
      "text/plain": [
       "array([[[1, 2],\n",
       "        [3, 4],\n",
       "        [5, 6]],\n",
       "\n",
       "       [[2, 2],\n",
       "        [3, 4],\n",
       "        [5, 6]]])"
      ]
     },
     "execution_count": 201,
     "metadata": {},
     "output_type": "execute_result"
    }
   ],
   "source": [
    "tensor_1 = arrd_2.reshape(2,3,2) # to create from 2D - into 3D array\n",
    "tensor_1"
   ]
  },
  {
   "cell_type": "code",
   "execution_count": 240,
   "metadata": {},
   "outputs": [
    {
     "data": {
      "text/plain": [
       "array([[[ 0,  1,  2],\n",
       "        [ 3,  4,  5],\n",
       "        [ 6,  7,  8]],\n",
       "\n",
       "       [[ 9, 10, 11],\n",
       "        [12, 13, 14],\n",
       "        [15, 16, 17]],\n",
       "\n",
       "       [[18, 19, 20],\n",
       "        [21, 22, 23],\n",
       "        [24, 25, 26]]])"
      ]
     },
     "execution_count": 240,
     "metadata": {},
     "output_type": "execute_result"
    }
   ],
   "source": [
    "random_1 = np.arange(27).reshape(3,3,3) #creating 3D array\n",
    "random_1"
   ]
  },
  {
   "cell_type": "code",
   "execution_count": 259,
   "metadata": {},
   "outputs": [
    {
     "data": {
      "text/plain": [
       "array([[1, 5, 3],\n",
       "       [2, 6, 4],\n",
       "       [3, 2, 5],\n",
       "       [4, 2, 6]])"
      ]
     },
     "execution_count": 259,
     "metadata": {},
     "output_type": "execute_result"
    }
   ],
   "source": [
    "t_pose = arrd_2.reshape(3,4).T # transposing\n",
    "t_pose\n"
   ]
  },
  {
   "cell_type": "code",
   "execution_count": 273,
   "metadata": {},
   "outputs": [
    {
     "data": {
      "text/plain": [
       "array([[2]])"
      ]
     },
     "execution_count": 273,
     "metadata": {},
     "output_type": "execute_result"
    }
   ],
   "source": [
    "t_pose[:]\n",
    "t_pose[0:4, 1:3]\n",
    "t_pose[2:3, 1:2]"
   ]
  },
  {
   "cell_type": "code",
   "execution_count": 311,
   "metadata": {},
   "outputs": [
    {
     "data": {
      "text/plain": [
       "array([54., 28., 42.])"
      ]
     },
     "execution_count": 311,
     "metadata": {},
     "output_type": "execute_result"
    }
   ],
   "source": [
    "np.random.seed(100) # every seed number will give certain number that not changing every load\n",
    "random_n = (100 * np.random.rand(3)).round(0)\n",
    "random_n"
   ]
  },
  {
   "cell_type": "code",
   "execution_count": 3,
   "metadata": {},
   "outputs": [
    {
     "data": {
      "text/plain": [
       "hey    oh\n",
       "hol    to\n",
       "dtype: object"
      ]
     },
     "execution_count": 3,
     "metadata": {},
     "output_type": "execute_result"
    }
   ],
   "source": [
    "pand = pd.Series({\"hey\": \"oh\", \"hol\": \"to\"})\n",
    "pand\n",
    "\n",
    "# https://pandas.pydata.org/docs/getting_started/index.html#getting-started"
   ]
  },
  {
   "cell_type": "code",
   "execution_count": 9,
   "metadata": {},
   "outputs": [
    {
     "name": "stdout",
     "output_type": "stream",
     "text": [
      "\u001b[1;31mSignature:\u001b[0m \u001b[0mos\u001b[0m\u001b[1;33m.\u001b[0m\u001b[0mchdir\u001b[0m\u001b[1;33m(\u001b[0m\u001b[0mpath\u001b[0m\u001b[1;33m)\u001b[0m\u001b[1;33m\u001b[0m\u001b[1;33m\u001b[0m\u001b[0m\n",
      "\u001b[1;31mDocstring:\u001b[0m\n",
      "Change the current working directory to the specified path.\n",
      "\n",
      "path may always be specified as a string.\n",
      "On some platforms, path may also be specified as an open file descriptor.\n",
      "  If this functionality is unavailable, using it raises an exception.\n",
      "\u001b[1;31mType:\u001b[0m      builtin_function_or_method"
     ]
    }
   ],
   "source": [
    "os.getcwd()\n",
    "os.chdir?"
   ]
  }
 ],
 "metadata": {
  "kernelspec": {
   "display_name": "Python 3",
   "language": "python",
   "name": "python3"
  },
  "language_info": {
   "codemirror_mode": {
    "name": "ipython",
    "version": 3
   },
   "file_extension": ".py",
   "mimetype": "text/x-python",
   "name": "python",
   "nbconvert_exporter": "python",
   "pygments_lexer": "ipython3",
   "version": "3.12.3"
  }
 },
 "nbformat": 4,
 "nbformat_minor": 2
}
